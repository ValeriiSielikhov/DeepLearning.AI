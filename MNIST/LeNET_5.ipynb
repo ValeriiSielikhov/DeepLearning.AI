{
 "cells": [
  {
   "cell_type": "code",
   "execution_count": 1,
   "id": "addressed-syria",
   "metadata": {},
   "outputs": [],
   "source": [
    "import tensorflow as tf\n",
    "import tensorflow.compat.v1 as v1\n",
    "import pandas as pd\n",
    "import numpy as np\n",
    "from tqdm import tqdm\n",
    "import random\n",
    "import math"
   ]
  },
  {
   "cell_type": "markdown",
   "id": "average-feeling",
   "metadata": {},
   "source": [
    "![](1.png)"
   ]
  },
  {
   "cell_type": "code",
   "execution_count": 2,
   "id": "interpreted-decrease",
   "metadata": {},
   "outputs": [],
   "source": [
    "def write_to_submission_file(predict, out_file, label = 'ImageId'):\n",
    "    label = np.arange(1, predict.shape[0]+1)\n",
    "    predicted_df = pd.DataFrame({'ImageId':label, 'Label':predict})\n",
    "    predicted_df.to_csv(out_file)\n",
    "    return predicted_df"
   ]
  },
  {
   "cell_type": "code",
   "execution_count": 3,
   "id": "theoretical-balance",
   "metadata": {},
   "outputs": [],
   "source": [
    "train_data = pd.read_csv('train.csv')\n",
    "test_data = pd.read_csv('test.csv')\n",
    "samples = pd.read_csv('sample_submission.csv')"
   ]
  },
  {
   "cell_type": "code",
   "execution_count": 4,
   "id": "divided-passion",
   "metadata": {},
   "outputs": [
    {
     "data": {
      "text/html": [
       "<div>\n",
       "<style scoped>\n",
       "    .dataframe tbody tr th:only-of-type {\n",
       "        vertical-align: middle;\n",
       "    }\n",
       "\n",
       "    .dataframe tbody tr th {\n",
       "        vertical-align: top;\n",
       "    }\n",
       "\n",
       "    .dataframe thead th {\n",
       "        text-align: right;\n",
       "    }\n",
       "</style>\n",
       "<table border=\"1\" class=\"dataframe\">\n",
       "  <thead>\n",
       "    <tr style=\"text-align: right;\">\n",
       "      <th></th>\n",
       "      <th>ImageId</th>\n",
       "      <th>Label</th>\n",
       "    </tr>\n",
       "  </thead>\n",
       "  <tbody>\n",
       "    <tr>\n",
       "      <th>0</th>\n",
       "      <td>1</td>\n",
       "      <td>0</td>\n",
       "    </tr>\n",
       "    <tr>\n",
       "      <th>1</th>\n",
       "      <td>2</td>\n",
       "      <td>0</td>\n",
       "    </tr>\n",
       "    <tr>\n",
       "      <th>2</th>\n",
       "      <td>3</td>\n",
       "      <td>0</td>\n",
       "    </tr>\n",
       "    <tr>\n",
       "      <th>3</th>\n",
       "      <td>4</td>\n",
       "      <td>0</td>\n",
       "    </tr>\n",
       "    <tr>\n",
       "      <th>4</th>\n",
       "      <td>5</td>\n",
       "      <td>0</td>\n",
       "    </tr>\n",
       "    <tr>\n",
       "      <th>...</th>\n",
       "      <td>...</td>\n",
       "      <td>...</td>\n",
       "    </tr>\n",
       "    <tr>\n",
       "      <th>27995</th>\n",
       "      <td>27996</td>\n",
       "      <td>0</td>\n",
       "    </tr>\n",
       "    <tr>\n",
       "      <th>27996</th>\n",
       "      <td>27997</td>\n",
       "      <td>0</td>\n",
       "    </tr>\n",
       "    <tr>\n",
       "      <th>27997</th>\n",
       "      <td>27998</td>\n",
       "      <td>0</td>\n",
       "    </tr>\n",
       "    <tr>\n",
       "      <th>27998</th>\n",
       "      <td>27999</td>\n",
       "      <td>0</td>\n",
       "    </tr>\n",
       "    <tr>\n",
       "      <th>27999</th>\n",
       "      <td>28000</td>\n",
       "      <td>0</td>\n",
       "    </tr>\n",
       "  </tbody>\n",
       "</table>\n",
       "<p>28000 rows × 2 columns</p>\n",
       "</div>"
      ],
      "text/plain": [
       "       ImageId  Label\n",
       "0            1      0\n",
       "1            2      0\n",
       "2            3      0\n",
       "3            4      0\n",
       "4            5      0\n",
       "...        ...    ...\n",
       "27995    27996      0\n",
       "27996    27997      0\n",
       "27997    27998      0\n",
       "27998    27999      0\n",
       "27999    28000      0\n",
       "\n",
       "[28000 rows x 2 columns]"
      ]
     },
     "execution_count": 4,
     "metadata": {},
     "output_type": "execute_result"
    }
   ],
   "source": [
    "samples"
   ]
  },
  {
   "cell_type": "code",
   "execution_count": 5,
   "id": "possible-diagram",
   "metadata": {},
   "outputs": [
    {
     "data": {
      "text/plain": [
       "0        1\n",
       "1        0\n",
       "2        1\n",
       "3        4\n",
       "4        0\n",
       "        ..\n",
       "41995    0\n",
       "41996    1\n",
       "41997    7\n",
       "41998    6\n",
       "41999    9\n",
       "Name: label, Length: 42000, dtype: int64"
      ]
     },
     "execution_count": 5,
     "metadata": {},
     "output_type": "execute_result"
    }
   ],
   "source": [
    "train_data['label']"
   ]
  },
  {
   "cell_type": "code",
   "execution_count": 6,
   "id": "athletic-battle",
   "metadata": {},
   "outputs": [
    {
     "data": {
      "text/html": [
       "<div>\n",
       "<style scoped>\n",
       "    .dataframe tbody tr th:only-of-type {\n",
       "        vertical-align: middle;\n",
       "    }\n",
       "\n",
       "    .dataframe tbody tr th {\n",
       "        vertical-align: top;\n",
       "    }\n",
       "\n",
       "    .dataframe thead th {\n",
       "        text-align: right;\n",
       "    }\n",
       "</style>\n",
       "<table border=\"1\" class=\"dataframe\">\n",
       "  <thead>\n",
       "    <tr style=\"text-align: right;\">\n",
       "      <th></th>\n",
       "      <th>label</th>\n",
       "      <th>pixel0</th>\n",
       "      <th>pixel1</th>\n",
       "      <th>pixel2</th>\n",
       "      <th>pixel3</th>\n",
       "      <th>pixel4</th>\n",
       "      <th>pixel5</th>\n",
       "      <th>pixel6</th>\n",
       "      <th>pixel7</th>\n",
       "      <th>pixel8</th>\n",
       "      <th>...</th>\n",
       "      <th>pixel774</th>\n",
       "      <th>pixel775</th>\n",
       "      <th>pixel776</th>\n",
       "      <th>pixel777</th>\n",
       "      <th>pixel778</th>\n",
       "      <th>pixel779</th>\n",
       "      <th>pixel780</th>\n",
       "      <th>pixel781</th>\n",
       "      <th>pixel782</th>\n",
       "      <th>pixel783</th>\n",
       "    </tr>\n",
       "  </thead>\n",
       "  <tbody>\n",
       "    <tr>\n",
       "      <th>count</th>\n",
       "      <td>42000.000000</td>\n",
       "      <td>42000.0</td>\n",
       "      <td>42000.0</td>\n",
       "      <td>42000.0</td>\n",
       "      <td>42000.0</td>\n",
       "      <td>42000.0</td>\n",
       "      <td>42000.0</td>\n",
       "      <td>42000.0</td>\n",
       "      <td>42000.0</td>\n",
       "      <td>42000.0</td>\n",
       "      <td>...</td>\n",
       "      <td>42000.000000</td>\n",
       "      <td>42000.000000</td>\n",
       "      <td>42000.000000</td>\n",
       "      <td>42000.00000</td>\n",
       "      <td>42000.000000</td>\n",
       "      <td>42000.000000</td>\n",
       "      <td>42000.0</td>\n",
       "      <td>42000.0</td>\n",
       "      <td>42000.0</td>\n",
       "      <td>42000.0</td>\n",
       "    </tr>\n",
       "    <tr>\n",
       "      <th>mean</th>\n",
       "      <td>4.456643</td>\n",
       "      <td>0.0</td>\n",
       "      <td>0.0</td>\n",
       "      <td>0.0</td>\n",
       "      <td>0.0</td>\n",
       "      <td>0.0</td>\n",
       "      <td>0.0</td>\n",
       "      <td>0.0</td>\n",
       "      <td>0.0</td>\n",
       "      <td>0.0</td>\n",
       "      <td>...</td>\n",
       "      <td>0.219286</td>\n",
       "      <td>0.117095</td>\n",
       "      <td>0.059024</td>\n",
       "      <td>0.02019</td>\n",
       "      <td>0.017238</td>\n",
       "      <td>0.002857</td>\n",
       "      <td>0.0</td>\n",
       "      <td>0.0</td>\n",
       "      <td>0.0</td>\n",
       "      <td>0.0</td>\n",
       "    </tr>\n",
       "    <tr>\n",
       "      <th>std</th>\n",
       "      <td>2.887730</td>\n",
       "      <td>0.0</td>\n",
       "      <td>0.0</td>\n",
       "      <td>0.0</td>\n",
       "      <td>0.0</td>\n",
       "      <td>0.0</td>\n",
       "      <td>0.0</td>\n",
       "      <td>0.0</td>\n",
       "      <td>0.0</td>\n",
       "      <td>0.0</td>\n",
       "      <td>...</td>\n",
       "      <td>6.312890</td>\n",
       "      <td>4.633819</td>\n",
       "      <td>3.274488</td>\n",
       "      <td>1.75987</td>\n",
       "      <td>1.894498</td>\n",
       "      <td>0.414264</td>\n",
       "      <td>0.0</td>\n",
       "      <td>0.0</td>\n",
       "      <td>0.0</td>\n",
       "      <td>0.0</td>\n",
       "    </tr>\n",
       "    <tr>\n",
       "      <th>min</th>\n",
       "      <td>0.000000</td>\n",
       "      <td>0.0</td>\n",
       "      <td>0.0</td>\n",
       "      <td>0.0</td>\n",
       "      <td>0.0</td>\n",
       "      <td>0.0</td>\n",
       "      <td>0.0</td>\n",
       "      <td>0.0</td>\n",
       "      <td>0.0</td>\n",
       "      <td>0.0</td>\n",
       "      <td>...</td>\n",
       "      <td>0.000000</td>\n",
       "      <td>0.000000</td>\n",
       "      <td>0.000000</td>\n",
       "      <td>0.00000</td>\n",
       "      <td>0.000000</td>\n",
       "      <td>0.000000</td>\n",
       "      <td>0.0</td>\n",
       "      <td>0.0</td>\n",
       "      <td>0.0</td>\n",
       "      <td>0.0</td>\n",
       "    </tr>\n",
       "    <tr>\n",
       "      <th>25%</th>\n",
       "      <td>2.000000</td>\n",
       "      <td>0.0</td>\n",
       "      <td>0.0</td>\n",
       "      <td>0.0</td>\n",
       "      <td>0.0</td>\n",
       "      <td>0.0</td>\n",
       "      <td>0.0</td>\n",
       "      <td>0.0</td>\n",
       "      <td>0.0</td>\n",
       "      <td>0.0</td>\n",
       "      <td>...</td>\n",
       "      <td>0.000000</td>\n",
       "      <td>0.000000</td>\n",
       "      <td>0.000000</td>\n",
       "      <td>0.00000</td>\n",
       "      <td>0.000000</td>\n",
       "      <td>0.000000</td>\n",
       "      <td>0.0</td>\n",
       "      <td>0.0</td>\n",
       "      <td>0.0</td>\n",
       "      <td>0.0</td>\n",
       "    </tr>\n",
       "    <tr>\n",
       "      <th>50%</th>\n",
       "      <td>4.000000</td>\n",
       "      <td>0.0</td>\n",
       "      <td>0.0</td>\n",
       "      <td>0.0</td>\n",
       "      <td>0.0</td>\n",
       "      <td>0.0</td>\n",
       "      <td>0.0</td>\n",
       "      <td>0.0</td>\n",
       "      <td>0.0</td>\n",
       "      <td>0.0</td>\n",
       "      <td>...</td>\n",
       "      <td>0.000000</td>\n",
       "      <td>0.000000</td>\n",
       "      <td>0.000000</td>\n",
       "      <td>0.00000</td>\n",
       "      <td>0.000000</td>\n",
       "      <td>0.000000</td>\n",
       "      <td>0.0</td>\n",
       "      <td>0.0</td>\n",
       "      <td>0.0</td>\n",
       "      <td>0.0</td>\n",
       "    </tr>\n",
       "    <tr>\n",
       "      <th>75%</th>\n",
       "      <td>7.000000</td>\n",
       "      <td>0.0</td>\n",
       "      <td>0.0</td>\n",
       "      <td>0.0</td>\n",
       "      <td>0.0</td>\n",
       "      <td>0.0</td>\n",
       "      <td>0.0</td>\n",
       "      <td>0.0</td>\n",
       "      <td>0.0</td>\n",
       "      <td>0.0</td>\n",
       "      <td>...</td>\n",
       "      <td>0.000000</td>\n",
       "      <td>0.000000</td>\n",
       "      <td>0.000000</td>\n",
       "      <td>0.00000</td>\n",
       "      <td>0.000000</td>\n",
       "      <td>0.000000</td>\n",
       "      <td>0.0</td>\n",
       "      <td>0.0</td>\n",
       "      <td>0.0</td>\n",
       "      <td>0.0</td>\n",
       "    </tr>\n",
       "    <tr>\n",
       "      <th>max</th>\n",
       "      <td>9.000000</td>\n",
       "      <td>0.0</td>\n",
       "      <td>0.0</td>\n",
       "      <td>0.0</td>\n",
       "      <td>0.0</td>\n",
       "      <td>0.0</td>\n",
       "      <td>0.0</td>\n",
       "      <td>0.0</td>\n",
       "      <td>0.0</td>\n",
       "      <td>0.0</td>\n",
       "      <td>...</td>\n",
       "      <td>254.000000</td>\n",
       "      <td>254.000000</td>\n",
       "      <td>253.000000</td>\n",
       "      <td>253.00000</td>\n",
       "      <td>254.000000</td>\n",
       "      <td>62.000000</td>\n",
       "      <td>0.0</td>\n",
       "      <td>0.0</td>\n",
       "      <td>0.0</td>\n",
       "      <td>0.0</td>\n",
       "    </tr>\n",
       "  </tbody>\n",
       "</table>\n",
       "<p>8 rows × 785 columns</p>\n",
       "</div>"
      ],
      "text/plain": [
       "              label   pixel0   pixel1   pixel2   pixel3   pixel4   pixel5  \\\n",
       "count  42000.000000  42000.0  42000.0  42000.0  42000.0  42000.0  42000.0   \n",
       "mean       4.456643      0.0      0.0      0.0      0.0      0.0      0.0   \n",
       "std        2.887730      0.0      0.0      0.0      0.0      0.0      0.0   \n",
       "min        0.000000      0.0      0.0      0.0      0.0      0.0      0.0   \n",
       "25%        2.000000      0.0      0.0      0.0      0.0      0.0      0.0   \n",
       "50%        4.000000      0.0      0.0      0.0      0.0      0.0      0.0   \n",
       "75%        7.000000      0.0      0.0      0.0      0.0      0.0      0.0   \n",
       "max        9.000000      0.0      0.0      0.0      0.0      0.0      0.0   \n",
       "\n",
       "        pixel6   pixel7   pixel8  ...      pixel774      pixel775  \\\n",
       "count  42000.0  42000.0  42000.0  ...  42000.000000  42000.000000   \n",
       "mean       0.0      0.0      0.0  ...      0.219286      0.117095   \n",
       "std        0.0      0.0      0.0  ...      6.312890      4.633819   \n",
       "min        0.0      0.0      0.0  ...      0.000000      0.000000   \n",
       "25%        0.0      0.0      0.0  ...      0.000000      0.000000   \n",
       "50%        0.0      0.0      0.0  ...      0.000000      0.000000   \n",
       "75%        0.0      0.0      0.0  ...      0.000000      0.000000   \n",
       "max        0.0      0.0      0.0  ...    254.000000    254.000000   \n",
       "\n",
       "           pixel776     pixel777      pixel778      pixel779  pixel780  \\\n",
       "count  42000.000000  42000.00000  42000.000000  42000.000000   42000.0   \n",
       "mean       0.059024      0.02019      0.017238      0.002857       0.0   \n",
       "std        3.274488      1.75987      1.894498      0.414264       0.0   \n",
       "min        0.000000      0.00000      0.000000      0.000000       0.0   \n",
       "25%        0.000000      0.00000      0.000000      0.000000       0.0   \n",
       "50%        0.000000      0.00000      0.000000      0.000000       0.0   \n",
       "75%        0.000000      0.00000      0.000000      0.000000       0.0   \n",
       "max      253.000000    253.00000    254.000000     62.000000       0.0   \n",
       "\n",
       "       pixel781  pixel782  pixel783  \n",
       "count   42000.0   42000.0   42000.0  \n",
       "mean        0.0       0.0       0.0  \n",
       "std         0.0       0.0       0.0  \n",
       "min         0.0       0.0       0.0  \n",
       "25%         0.0       0.0       0.0  \n",
       "50%         0.0       0.0       0.0  \n",
       "75%         0.0       0.0       0.0  \n",
       "max         0.0       0.0       0.0  \n",
       "\n",
       "[8 rows x 785 columns]"
      ]
     },
     "execution_count": 6,
     "metadata": {},
     "output_type": "execute_result"
    }
   ],
   "source": [
    "train_data.describe()"
   ]
  },
  {
   "cell_type": "code",
   "execution_count": 7,
   "id": "handled-analysis",
   "metadata": {},
   "outputs": [
    {
     "data": {
      "text/plain": [
       "((42000, 785), (28000, 784))"
      ]
     },
     "execution_count": 7,
     "metadata": {},
     "output_type": "execute_result"
    }
   ],
   "source": [
    "train_data.shape, test_data.shape"
   ]
  },
  {
   "cell_type": "code",
   "execution_count": 8,
   "id": "reserved-realtor",
   "metadata": {},
   "outputs": [
    {
     "data": {
      "text/plain": [
       "array([[0., 1., 0., ..., 0., 0., 0.],\n",
       "       [1., 0., 0., ..., 0., 0., 0.],\n",
       "       [0., 1., 0., ..., 0., 0., 0.],\n",
       "       ...,\n",
       "       [0., 0., 0., ..., 1., 0., 0.],\n",
       "       [0., 0., 0., ..., 0., 0., 0.],\n",
       "       [0., 0., 0., ..., 0., 0., 1.]])"
      ]
     },
     "execution_count": 8,
     "metadata": {},
     "output_type": "execute_result"
    }
   ],
   "source": [
    "from sklearn.preprocessing import OneHotEncoder\n",
    "model = OneHotEncoder()\n",
    "label = model.fit_transform(np.array(train_data['label']).reshape(-1, 1)).toarray()\n",
    "label"
   ]
  },
  {
   "cell_type": "code",
   "execution_count": 9,
   "id": "bigger-father",
   "metadata": {},
   "outputs": [],
   "source": [
    "X_tain = np.array(train_data.drop(['label'], axis = 1)/255).reshape(-1, 28,28, 1)"
   ]
  },
  {
   "cell_type": "code",
   "execution_count": 10,
   "id": "modular-condition",
   "metadata": {},
   "outputs": [],
   "source": [
    "def random_mini_batches(X, Y, mini_batch_size = 64, seed = 0):\n",
    "    \"\"\"\n",
    "    Creates a list of random minibatches from (X, Y)\n",
    "    \n",
    "    Arguments:\n",
    "    X -- input data, of shape (input size, number of examples)\n",
    "    Y -- true \"label\" vector (1 for blue dot / 0 for red dot), of shape (1, number of examples)\n",
    "    mini_batch_size -- size of the mini-batches, integer\n",
    "    \n",
    "    Returns:\n",
    "    mini_batches -- list of synchronous (mini_batch_X, mini_batch_Y)\n",
    "    \"\"\"\n",
    "    \n",
    "    np.random.seed(seed)            # To make your \"random\" minibatches the same as ours\n",
    "    m = X.shape[0]                  # number of training examples\n",
    "    mini_batches = []\n",
    "        \n",
    "    # Step 1: Shuffle (X, Y)\n",
    "    permutation = list(np.random.permutation(m))\n",
    "    shuffled_X = X[permutation,:]\n",
    "    shuffled_Y = Y[permutation,:]\n",
    "\n",
    "    # Step 2: Partition (shuffled_X, shuffled_Y). Minus the end case.\n",
    "    num_complete_minibatches = math.floor(m/mini_batch_size) # number of mini batches of size mini_batch_size in your partitionning\n",
    "    for k in range(0, num_complete_minibatches):\n",
    "        mini_batch_X = shuffled_X[k*mini_batch_size:(k+1)*mini_batch_size, :]\n",
    "        mini_batch_Y = shuffled_Y[k*mini_batch_size:(k+1)*mini_batch_size, :]\n",
    "        mini_batch = (mini_batch_X, mini_batch_Y)\n",
    "        mini_batches.append(mini_batch)\n",
    "    \n",
    "    # Handling the end case (last mini-batch < mini_batch_size)\n",
    "    if m % mini_batch_size != 0:\n",
    "        mini_batch_X = shuffled_X[mini_batch_size*num_complete_minibatches:, :]\n",
    "        mini_batch_Y = shuffled_Y[mini_batch_size*num_complete_minibatches:, :]\n",
    "        mini_batch = (mini_batch_X, mini_batch_Y)\n",
    "        mini_batches.append(mini_batch)\n",
    "    \n",
    "    return mini_batches"
   ]
  },
  {
   "cell_type": "code",
   "execution_count": 11,
   "id": "wrapped-finder",
   "metadata": {},
   "outputs": [],
   "source": [
    "X_test = (np.array(test_data)/255).reshape(-1, 28,28, 1)"
   ]
  },
  {
   "cell_type": "markdown",
   "id": "bizarre-tragedy",
   "metadata": {},
   "source": [
    "![LeNET -5](LeNEt_5.png)"
   ]
  },
  {
   "cell_type": "code",
   "execution_count": null,
   "id": "prepared-borough",
   "metadata": {},
   "outputs": [],
   "source": [
    "#Tensorflow\n",
    "tf.compat.v1.disable_eager_execution()"
   ]
  },
  {
   "cell_type": "code",
   "execution_count": null,
   "id": "interested-spray",
   "metadata": {},
   "outputs": [],
   "source": [
    "x = v1.placeholder(tf.float32, shape = [None, 28,28,1], name = 'x')               #m, 28 28 ,1\n",
    "y = v1.placeholder(tf.float32, shape = [None, 10], name = 'y')"
   ]
  },
  {
   "cell_type": "code",
   "execution_count": null,
   "id": "stretch-native",
   "metadata": {},
   "outputs": [],
   "source": [
    "W1 = v1.Variable(v1.truncated_normal([5,5,1,6], mean=0.0, stddev=0.1))\n",
    "b1 = v1.Variable(v1.constant(0.1, shape = [6]))"
   ]
  },
  {
   "cell_type": "code",
   "execution_count": null,
   "id": "extraordinary-breath",
   "metadata": {},
   "outputs": [],
   "source": [
    "h_conv_1 = tf.nn.tanh(tf.nn.conv2d(x, W1, strides = [1,1,1,1], padding = 'VALID') + b1) #m, 24 24 ,6"
   ]
  },
  {
   "cell_type": "code",
   "execution_count": null,
   "id": "activated-period",
   "metadata": {},
   "outputs": [],
   "source": [
    "h_pool_2 = tf.nn.tanh(tf.nn.avg_pool(h_conv_1, ksize = [1,2,2,1], strides = [1,2,2,1], padding = 'VALID'))         # m 12 12 6"
   ]
  },
  {
   "cell_type": "code",
   "execution_count": null,
   "id": "electric-brooks",
   "metadata": {},
   "outputs": [],
   "source": [
    "W2 = v1.Variable(v1.truncated_normal([5,5,6,16], mean=0.0, stddev=0.1))\n",
    "b2 = v1.Variable(v1.constant(0.1, shape = [16]))"
   ]
  },
  {
   "cell_type": "code",
   "execution_count": null,
   "id": "final-convertible",
   "metadata": {},
   "outputs": [],
   "source": [
    "h_conv_3 = tf.nn.tanh((tf.nn.conv2d(h_pool_2, W2, strides = [1,1,1,1], padding = 'VALID') + b2))# m 8 8 16"
   ]
  },
  {
   "cell_type": "code",
   "execution_count": null,
   "id": "advance-public",
   "metadata": {},
   "outputs": [],
   "source": [
    "h_pool_4 = tf.nn.tanh(tf.nn.avg_pool(h_conv_3, ksize = [1,2,2,1], strides = [1,2,2,1], padding = 'VALID'))         # m 4 4 16"
   ]
  },
  {
   "cell_type": "code",
   "execution_count": null,
   "id": "white-sweden",
   "metadata": {},
   "outputs": [],
   "source": [
    "W3 = v1.Variable(v1.truncated_normal([4*4*16, 120], mean=0.0, stddev=0.1))\n",
    "b3 = v1.Variable(v1.constant(0.1, shape = [120]))"
   ]
  },
  {
   "cell_type": "code",
   "execution_count": null,
   "id": "adjusted-argument",
   "metadata": {},
   "outputs": [],
   "source": [
    "h_flat_5 = tf.reshape(h_pool_4, [-1, 4*4*16])"
   ]
  },
  {
   "cell_type": "code",
   "execution_count": null,
   "id": "legal-flooring",
   "metadata": {},
   "outputs": [],
   "source": [
    "h_fc_6 = tf.nn.tanh(v1.matmul(h_flat_5, W3) +b3)"
   ]
  },
  {
   "cell_type": "code",
   "execution_count": null,
   "id": "lyric-prompt",
   "metadata": {},
   "outputs": [],
   "source": [
    "W4 = v1.Variable(v1.truncated_normal([120, 84], mean=0.0, stddev=0.1))\n",
    "b4 = v1.Variable(v1.constant(0.1, shape = [84]))"
   ]
  },
  {
   "cell_type": "code",
   "execution_count": null,
   "id": "protecting-compensation",
   "metadata": {},
   "outputs": [],
   "source": [
    "h_fc_7 = tf.nn.tanh(v1.matmul(h_fc_6, W4) +b4)"
   ]
  },
  {
   "cell_type": "code",
   "execution_count": null,
   "id": "heated-banana",
   "metadata": {},
   "outputs": [],
   "source": [
    "W5 = v1.Variable(v1.truncated_normal([84, 10], mean=0.0, stddev=0.1))\n",
    "b5 = v1.Variable(v1.constant(0.1, shape = [10]))"
   ]
  },
  {
   "cell_type": "code",
   "execution_count": null,
   "id": "horizontal-shakespeare",
   "metadata": {},
   "outputs": [],
   "source": [
    "logit_conv = v1.matmul(h_fc_7, W5) +b5"
   ]
  },
  {
   "cell_type": "code",
   "execution_count": null,
   "id": "quiet-survival",
   "metadata": {},
   "outputs": [],
   "source": [
    "h_fc_8 = tf.nn.softmax(logit_conv)"
   ]
  },
  {
   "cell_type": "code",
   "execution_count": null,
   "id": "presidential-parcel",
   "metadata": {},
   "outputs": [],
   "source": [
    "cross_entropy = tf.reduce_mean(tf.nn.softmax_cross_entropy_with_logits(h_fc_8, y))"
   ]
  },
  {
   "cell_type": "code",
   "execution_count": null,
   "id": "healthy-drawing",
   "metadata": {},
   "outputs": [],
   "source": [
    "train_step = v1.train.AdamOptimizer(0.0001).minimize(cross_entropy)"
   ]
  },
  {
   "cell_type": "code",
   "execution_count": null,
   "id": "circular-apache",
   "metadata": {},
   "outputs": [],
   "source": [
    "init = v1.global_variables_initializer()\n",
    "sess = v1.Session()\n",
    "sess.run(init)"
   ]
  },
  {
   "cell_type": "code",
   "execution_count": null,
   "id": "described-mount",
   "metadata": {},
   "outputs": [],
   "source": [
    "for i in tqdm(range(100)):\n",
    "    minibatches = random_mini_batches(X_tain, label)\n",
    "    for minibatch in minibatches:\n",
    "        (minibatch_X, minibatch_Y) = minibatch\n",
    "        sess.run(train_step, feed_dict = {x:minibatch_X.reshape(-1,28,28,1), y:minibatch_Y.reshape(-1,10)})"
   ]
  },
  {
   "cell_type": "code",
   "execution_count": null,
   "id": "cleared-northwest",
   "metadata": {},
   "outputs": [],
   "source": [
    "predictions = tf.argmax(h_fc_8, 1)\n",
    "predicted_labels = predictions.eval(feed_dict={x: X_test}, session=sess)\n",
    "predicted_labels"
   ]
  },
  {
   "cell_type": "code",
   "execution_count": null,
   "id": "catholic-hundred",
   "metadata": {},
   "outputs": [],
   "source": [
    "sess.close()"
   ]
  },
  {
   "cell_type": "code",
   "execution_count": null,
   "id": "suffering-research",
   "metadata": {},
   "outputs": [],
   "source": [
    "#write_to_submission_file(predicted_labels, 'out_file.csv', label = 'ImageId')"
   ]
  },
  {
   "cell_type": "code",
   "execution_count": null,
   "id": "saved-philip",
   "metadata": {},
   "outputs": [],
   "source": [
    "output = pd.DataFrame({'ImageId': test_data.index +1, 'Label': predicted_labels})\n",
    "output.to_csv('my_submission.csv', index=False)\n",
    "print(\"Your submission was successfully saved!\")\n",
    "output                                                             # 0.98557"
   ]
  },
  {
   "cell_type": "code",
   "execution_count": null,
   "id": "aggressive-pastor",
   "metadata": {},
   "outputs": [],
   "source": []
  },
  {
   "cell_type": "markdown",
   "id": "biblical-hybrid",
   "metadata": {},
   "source": [
    "## Keras"
   ]
  },
  {
   "cell_type": "code",
   "execution_count": 12,
   "id": "intense-right",
   "metadata": {},
   "outputs": [],
   "source": [
    "from keras.models import Sequential\n",
    "from keras.layers import Dense, Activation, Flatten, Dropout\n",
    "from keras.layers import Convolution2D, MaxPooling2D\n",
    "from keras.utils import np_utils"
   ]
  },
  {
   "cell_type": "code",
   "execution_count": 13,
   "id": "proud-mortgage",
   "metadata": {},
   "outputs": [],
   "source": [
    "batch_size, h_img, w_img = 64, 28, 28\n",
    "input_shape = (h_img, w_img, 1)"
   ]
  },
  {
   "cell_type": "code",
   "execution_count": 14,
   "id": "early-display",
   "metadata": {},
   "outputs": [],
   "source": [
    "model = Sequential()"
   ]
  },
  {
   "cell_type": "code",
   "execution_count": 15,
   "id": "surprising-beauty",
   "metadata": {},
   "outputs": [],
   "source": [
    "model.add(Convolution2D(32, 5, 5, padding = \"same\", input_shape = input_shape))\n",
    "model.add(Activation('relu'))\n",
    "model.add(MaxPooling2D(pool_size = (2,2), strides = (2,2), padding = 'same'))\n",
    "model.add(Activation(\"relu\"))\n",
    "model.add(Convolution2D(64, 5, 5, padding = \"same\", input_shape = input_shape))\n",
    "model.add(Activation(\"relu\"))\n",
    "model.add(MaxPooling2D(pool_size = (2,2), strides = (2,2), padding = 'same'))"
   ]
  },
  {
   "cell_type": "code",
   "execution_count": 16,
   "id": "flush-portugal",
   "metadata": {},
   "outputs": [],
   "source": [
    "model.add(Flatten())\n",
    "model.add(Dense(1084))\n",
    "model.add(Activation(\"relu\"))\n",
    "model.add(Dropout(0.5))\n",
    "model.add(Dense(408))\n",
    "model.add(Activation(\"relu\"))\n",
    "model.add(Dropout(0.5))\n",
    "model.add(Dense(100))\n",
    "model.add(Activation(\"relu\"))\n",
    "model.add(Dense(10))\n",
    "model.add(Activation('softmax'))"
   ]
  },
  {
   "cell_type": "code",
   "execution_count": 17,
   "id": "prescription-nickname",
   "metadata": {},
   "outputs": [],
   "source": [
    "from sklearn.model_selection import train_test_split\n",
    "train_x, text_x, train_y, test_y = train_test_split(X_tain, label, test_size = 0.15, random_state = 5)"
   ]
  },
  {
   "cell_type": "code",
   "execution_count": 18,
   "id": "distributed-accreditation",
   "metadata": {},
   "outputs": [
    {
     "name": "stdout",
     "output_type": "stream",
     "text": [
      "Epoch 1/100\n",
      "558/558 [==============================] - 6s 11ms/step - loss: 0.7125 - accuracy: 0.7535 - val_loss: 0.3489 - val_accuracy: 0.8884\n",
      "Epoch 2/100\n",
      "558/558 [==============================] - 5s 8ms/step - loss: 0.2793 - accuracy: 0.9133 - val_loss: 0.2199 - val_accuracy: 0.9270\n",
      "Epoch 3/100\n",
      "558/558 [==============================] - 5s 8ms/step - loss: 0.2093 - accuracy: 0.9355 - val_loss: 0.2182 - val_accuracy: 0.9300\n",
      "Epoch 4/100\n",
      "558/558 [==============================] - 4s 8ms/step - loss: 0.1817 - accuracy: 0.9445 - val_loss: 0.1886 - val_accuracy: 0.9400\n",
      "Epoch 5/100\n",
      "558/558 [==============================] - 4s 8ms/step - loss: 0.1574 - accuracy: 0.9513 - val_loss: 0.1852 - val_accuracy: 0.9429\n",
      "Epoch 6/100\n",
      "558/558 [==============================] - 5s 8ms/step - loss: 0.1426 - accuracy: 0.9559 - val_loss: 0.1663 - val_accuracy: 0.9479\n",
      "Epoch 7/100\n",
      "558/558 [==============================] - 4s 8ms/step - loss: 0.1267 - accuracy: 0.9602 - val_loss: 0.1741 - val_accuracy: 0.9473\n",
      "Epoch 8/100\n",
      "558/558 [==============================] - 4s 8ms/step - loss: 0.1126 - accuracy: 0.9657 - val_loss: 0.1873 - val_accuracy: 0.9435\n",
      "Epoch 9/100\n",
      "558/558 [==============================] - 5s 8ms/step - loss: 0.1038 - accuracy: 0.9676 - val_loss: 0.1617 - val_accuracy: 0.9478\n",
      "Epoch 10/100\n",
      "558/558 [==============================] - 5s 8ms/step - loss: 0.0998 - accuracy: 0.9688 - val_loss: 0.1508 - val_accuracy: 0.9533\n",
      "Epoch 11/100\n",
      "558/558 [==============================] - 4s 8ms/step - loss: 0.0909 - accuracy: 0.9718 - val_loss: 0.1483 - val_accuracy: 0.9573\n",
      "Epoch 12/100\n",
      "558/558 [==============================] - 5s 10ms/step - loss: 0.0884 - accuracy: 0.9719 - val_loss: 0.1558 - val_accuracy: 0.9541\n",
      "Epoch 13/100\n",
      "558/558 [==============================] - 6s 10ms/step - loss: 0.0800 - accuracy: 0.9749 - val_loss: 0.1818 - val_accuracy: 0.9500\n",
      "Epoch 14/100\n",
      "558/558 [==============================] - 5s 9ms/step - loss: 0.0761 - accuracy: 0.9762 - val_loss: 0.1588 - val_accuracy: 0.9567\n",
      "Epoch 15/100\n",
      "558/558 [==============================] - 5s 9ms/step - loss: 0.0729 - accuracy: 0.9769 - val_loss: 0.1740 - val_accuracy: 0.9533: 0s - loss: 0.072\n",
      "Epoch 16/100\n",
      "558/558 [==============================] - 5s 8ms/step - loss: 0.0676 - accuracy: 0.9789 - val_loss: 0.1780 - val_accuracy: 0.9551\n",
      "Epoch 17/100\n",
      "558/558 [==============================] - 5s 9ms/step - loss: 0.0583 - accuracy: 0.9822 - val_loss: 0.1890 - val_accuracy: 0.9495\n",
      "Epoch 18/100\n",
      "558/558 [==============================] - 5s 10ms/step - loss: 0.0640 - accuracy: 0.9787 - val_loss: 0.1895 - val_accuracy: 0.9502\n",
      "Epoch 19/100\n",
      "558/558 [==============================] - 5s 9ms/step - loss: 0.0607 - accuracy: 0.9814 - val_loss: 0.1762 - val_accuracy: 0.9529\n",
      "Epoch 20/100\n",
      "558/558 [==============================] - 5s 9ms/step - loss: 0.0566 - accuracy: 0.9815 - val_loss: 0.1768 - val_accuracy: 0.9541\n",
      "Epoch 21/100\n",
      "558/558 [==============================] - 5s 10ms/step - loss: 0.0515 - accuracy: 0.9833 - val_loss: 0.1913 - val_accuracy: 0.9533\n",
      "Epoch 22/100\n",
      "558/558 [==============================] - 5s 9ms/step - loss: 0.0513 - accuracy: 0.9841 - val_loss: 0.1908 - val_accuracy: 0.9530\n",
      "Epoch 23/100\n",
      "558/558 [==============================] - 5s 10ms/step - loss: 0.0473 - accuracy: 0.9847 - val_loss: 0.1959 - val_accuracy: 0.9543\n",
      "Epoch 24/100\n",
      "558/558 [==============================] - 6s 10ms/step - loss: 0.0506 - accuracy: 0.9836 - val_loss: 0.1830 - val_accuracy: 0.9551\n",
      "Epoch 25/100\n",
      "558/558 [==============================] - 6s 10ms/step - loss: 0.0432 - accuracy: 0.9860 - val_loss: 0.1717 - val_accuracy: 0.9579\n",
      "Epoch 26/100\n",
      "558/558 [==============================] - 5s 10ms/step - loss: 0.0435 - accuracy: 0.9862 - val_loss: 0.1835 - val_accuracy: 0.9579\n",
      "Epoch 27/100\n",
      "558/558 [==============================] - 5s 9ms/step - loss: 0.0431 - accuracy: 0.9864 - val_loss: 0.1848 - val_accuracy: 0.9548\n",
      "Epoch 28/100\n",
      "558/558 [==============================] - 5s 9ms/step - loss: 0.0412 - accuracy: 0.9867 - val_loss: 0.1994 - val_accuracy: 0.9548\n",
      "Epoch 29/100\n",
      "558/558 [==============================] - 5s 9ms/step - loss: 0.0360 - accuracy: 0.9882 - val_loss: 0.2148 - val_accuracy: 0.9570\n",
      "Epoch 30/100\n",
      "558/558 [==============================] - 5s 9ms/step - loss: 0.0414 - accuracy: 0.9869 - val_loss: 0.2153 - val_accuracy: 0.9532\n",
      "Epoch 31/100\n",
      "558/558 [==============================] - 6s 10ms/step - loss: 0.0412 - accuracy: 0.9868 - val_loss: 0.2227 - val_accuracy: 0.9502\n",
      "Epoch 32/100\n",
      "558/558 [==============================] - 5s 9ms/step - loss: 0.0348 - accuracy: 0.9891 - val_loss: 0.2088 - val_accuracy: 0.9568\n",
      "Epoch 33/100\n",
      "558/558 [==============================] - 6s 11ms/step - loss: 0.0308 - accuracy: 0.9897 - val_loss: 0.2048 - val_accuracy: 0.9571\n",
      "Epoch 34/100\n",
      "558/558 [==============================] - 6s 11ms/step - loss: 0.0335 - accuracy: 0.9896 - val_loss: 0.2079 - val_accuracy: 0.9551\n",
      "Epoch 35/100\n",
      "558/558 [==============================] - 5s 9ms/step - loss: 0.0321 - accuracy: 0.9901 - val_loss: 0.2057 - val_accuracy: 0.9565\n",
      "Epoch 36/100\n",
      "558/558 [==============================] - 5s 9ms/step - loss: 0.0313 - accuracy: 0.9901 - val_loss: 0.2277 - val_accuracy: 0.9535\n",
      "Epoch 37/100\n",
      "558/558 [==============================] - 6s 10ms/step - loss: 0.0295 - accuracy: 0.9908 - val_loss: 0.2007 - val_accuracy: 0.9562\n",
      "Epoch 38/100\n",
      "558/558 [==============================] - 6s 10ms/step - loss: 0.0294 - accuracy: 0.9910 - val_loss: 0.2533 - val_accuracy: 0.9532\n",
      "Epoch 39/100\n",
      "558/558 [==============================] - 6s 11ms/step - loss: 0.0311 - accuracy: 0.9897 - val_loss: 0.2336 - val_accuracy: 0.9571\n",
      "Epoch 40/100\n",
      "558/558 [==============================] - 7s 12ms/step - loss: 0.0310 - accuracy: 0.9899 - val_loss: 0.1978 - val_accuracy: 0.9560\n",
      "Epoch 41/100\n",
      "558/558 [==============================] - 5s 8ms/step - loss: 0.0271 - accuracy: 0.9912 - val_loss: 0.2206 - val_accuracy: 0.9579\n",
      "Epoch 42/100\n",
      "558/558 [==============================] - 5s 9ms/step - loss: 0.0267 - accuracy: 0.9918 - val_loss: 0.2367 - val_accuracy: 0.9549\n",
      "Epoch 43/100\n",
      "558/558 [==============================] - 5s 8ms/step - loss: 0.0292 - accuracy: 0.9906 - val_loss: 0.2372 - val_accuracy: 0.9552\n",
      "Epoch 44/100\n",
      "558/558 [==============================] - 5s 9ms/step - loss: 0.0267 - accuracy: 0.9918 - val_loss: 0.2389 - val_accuracy: 0.9543\n",
      "Epoch 45/100\n",
      "558/558 [==============================] - 5s 8ms/step - loss: 0.0300 - accuracy: 0.9914 - val_loss: 0.2228 - val_accuracy: 0.9575\n",
      "Epoch 46/100\n",
      "558/558 [==============================] - 5s 9ms/step - loss: 0.0248 - accuracy: 0.9923 - val_loss: 0.2439 - val_accuracy: 0.9567\n",
      "Epoch 47/100\n",
      "558/558 [==============================] - 4s 8ms/step - loss: 0.0240 - accuracy: 0.9928 - val_loss: 0.2357 - val_accuracy: 0.9563\n",
      "Epoch 48/100\n",
      "558/558 [==============================] - 4s 8ms/step - loss: 0.0252 - accuracy: 0.9923 - val_loss: 0.2534 - val_accuracy: 0.9535\n",
      "Epoch 49/100\n",
      "558/558 [==============================] - 5s 9ms/step - loss: 0.0262 - accuracy: 0.9922 - val_loss: 0.2476 - val_accuracy: 0.9565\n",
      "Epoch 50/100\n",
      "558/558 [==============================] - 5s 9ms/step - loss: 0.0230 - accuracy: 0.9922 - val_loss: 0.2620 - val_accuracy: 0.9568\n",
      "Epoch 51/100\n",
      "558/558 [==============================] - 5s 8ms/step - loss: 0.0265 - accuracy: 0.9918 - val_loss: 0.2660 - val_accuracy: 0.9548\n",
      "Epoch 52/100\n",
      "558/558 [==============================] - 5s 9ms/step - loss: 0.0245 - accuracy: 0.9931 - val_loss: 0.2650 - val_accuracy: 0.9573\n",
      "Epoch 53/100\n",
      "558/558 [==============================] - 5s 8ms/step - loss: 0.0286 - accuracy: 0.9911 - val_loss: 0.2481 - val_accuracy: 0.9546\n",
      "Epoch 54/100\n",
      "558/558 [==============================] - 5s 8ms/step - loss: 0.0238 - accuracy: 0.9927 - val_loss: 0.2533 - val_accuracy: 0.9549\n",
      "Epoch 55/100\n",
      "558/558 [==============================] - 5s 8ms/step - loss: 0.0231 - accuracy: 0.9932 - val_loss: 0.2723 - val_accuracy: 0.9500\n",
      "Epoch 56/100\n",
      "558/558 [==============================] - 5s 8ms/step - loss: 0.0290 - accuracy: 0.9918 - val_loss: 0.2638 - val_accuracy: 0.9560\n",
      "Epoch 57/100\n",
      "558/558 [==============================] - 4s 8ms/step - loss: 0.0223 - accuracy: 0.9931 - val_loss: 0.2513 - val_accuracy: 0.9570\n"
     ]
    },
    {
     "name": "stdout",
     "output_type": "stream",
     "text": [
      "Epoch 58/100\n",
      "558/558 [==============================] - 4s 8ms/step - loss: 0.0207 - accuracy: 0.9941 - val_loss: 0.2766 - val_accuracy: 0.9563\n",
      "Epoch 59/100\n",
      "558/558 [==============================] - 5s 9ms/step - loss: 0.0189 - accuracy: 0.9946 - val_loss: 0.2948 - val_accuracy: 0.9567\n",
      "Epoch 60/100\n",
      "558/558 [==============================] - 5s 9ms/step - loss: 0.0259 - accuracy: 0.9928 - val_loss: 0.2958 - val_accuracy: 0.9525\n",
      "Epoch 61/100\n",
      "558/558 [==============================] - 5s 10ms/step - loss: 0.0222 - accuracy: 0.9932 - val_loss: 0.2689 - val_accuracy: 0.9587\n",
      "Epoch 62/100\n",
      "558/558 [==============================] - 5s 9ms/step - loss: 0.0195 - accuracy: 0.9943 - val_loss: 0.3218 - val_accuracy: 0.9537\n",
      "Epoch 63/100\n",
      "558/558 [==============================] - 5s 10ms/step - loss: 0.0242 - accuracy: 0.9932 - val_loss: 0.2974 - val_accuracy: 0.9563\n",
      "Epoch 64/100\n",
      "558/558 [==============================] - 6s 10ms/step - loss: 0.0255 - accuracy: 0.9930 - val_loss: 0.2617 - val_accuracy: 0.9537\n",
      "Epoch 65/100\n",
      "558/558 [==============================] - 5s 9ms/step - loss: 0.0196 - accuracy: 0.9943 - val_loss: 0.2925 - val_accuracy: 0.9560\n",
      "Epoch 66/100\n",
      "558/558 [==============================] - 5s 9ms/step - loss: 0.0212 - accuracy: 0.9936 - val_loss: 0.2910 - val_accuracy: 0.9575\n",
      "Epoch 67/100\n",
      "558/558 [==============================] - 5s 8ms/step - loss: 0.0224 - accuracy: 0.9937 - val_loss: 0.2840 - val_accuracy: 0.9583\n",
      "Epoch 68/100\n",
      "558/558 [==============================] - 5s 9ms/step - loss: 0.0200 - accuracy: 0.9943 - val_loss: 0.2792 - val_accuracy: 0.9562\n",
      "Epoch 69/100\n",
      "558/558 [==============================] - 6s 11ms/step - loss: 0.0185 - accuracy: 0.9940 - val_loss: 0.2880 - val_accuracy: 0.9548\n",
      "Epoch 70/100\n",
      "558/558 [==============================] - 5s 8ms/step - loss: 0.0263 - accuracy: 0.9931 - val_loss: 0.2637 - val_accuracy: 0.9576\n",
      "Epoch 71/100\n",
      "558/558 [==============================] - 5s 8ms/step - loss: 0.0170 - accuracy: 0.9947 - val_loss: 0.2929 - val_accuracy: 0.9579\n",
      "Epoch 72/100\n",
      "558/558 [==============================] - 5s 9ms/step - loss: 0.0246 - accuracy: 0.9934 - val_loss: 0.2834 - val_accuracy: 0.9568\n",
      "Epoch 73/100\n",
      "558/558 [==============================] - 5s 8ms/step - loss: 0.0186 - accuracy: 0.9945 - val_loss: 0.2640 - val_accuracy: 0.9603\n",
      "Epoch 74/100\n",
      "558/558 [==============================] - 5s 9ms/step - loss: 0.0176 - accuracy: 0.9945 - val_loss: 0.2915 - val_accuracy: 0.9581\n",
      "Epoch 75/100\n",
      "558/558 [==============================] - 4s 8ms/step - loss: 0.0232 - accuracy: 0.9932 - val_loss: 0.2861 - val_accuracy: 0.9578\n",
      "Epoch 76/100\n",
      "558/558 [==============================] - 4s 8ms/step - loss: 0.0205 - accuracy: 0.9946 - val_loss: 0.3060 - val_accuracy: 0.9548\n",
      "Epoch 77/100\n",
      "558/558 [==============================] - 4s 8ms/step - loss: 0.0175 - accuracy: 0.9952 - val_loss: 0.3067 - val_accuracy: 0.9541\n",
      "Epoch 78/100\n",
      "558/558 [==============================] - 5s 8ms/step - loss: 0.0215 - accuracy: 0.9937 - val_loss: 0.3035 - val_accuracy: 0.9533\n",
      "Epoch 79/100\n",
      "558/558 [==============================] - 4s 8ms/step - loss: 0.0162 - accuracy: 0.9955 - val_loss: 0.3435 - val_accuracy: 0.9541\n",
      "Epoch 80/100\n",
      "558/558 [==============================] - 5s 9ms/step - loss: 0.0173 - accuracy: 0.9948 - val_loss: 0.3321 - val_accuracy: 0.9573\n",
      "Epoch 81/100\n",
      "558/558 [==============================] - 5s 9ms/step - loss: 0.0182 - accuracy: 0.9945 - val_loss: 0.3061 - val_accuracy: 0.9544\n",
      "Epoch 82/100\n",
      "558/558 [==============================] - 5s 9ms/step - loss: 0.0193 - accuracy: 0.9949 - val_loss: 0.3400 - val_accuracy: 0.9556\n",
      "Epoch 83/100\n",
      "558/558 [==============================] - 4s 8ms/step - loss: 0.0140 - accuracy: 0.9961 - val_loss: 0.3415 - val_accuracy: 0.9540\n",
      "Epoch 84/100\n",
      "558/558 [==============================] - 4s 8ms/step - loss: 0.0159 - accuracy: 0.9955 - val_loss: 0.3329 - val_accuracy: 0.9546\n",
      "Epoch 85/100\n",
      "558/558 [==============================] - 4s 8ms/step - loss: 0.0190 - accuracy: 0.9948 - val_loss: 0.3723 - val_accuracy: 0.9516\n",
      "Epoch 86/100\n",
      "558/558 [==============================] - 4s 8ms/step - loss: 0.0211 - accuracy: 0.9944 - val_loss: 0.3433 - val_accuracy: 0.9529\n",
      "Epoch 87/100\n",
      "558/558 [==============================] - 5s 9ms/step - loss: 0.0180 - accuracy: 0.9948 - val_loss: 0.3456 - val_accuracy: 0.9503\n",
      "Epoch 88/100\n",
      "558/558 [==============================] - 6s 10ms/step - loss: 0.0150 - accuracy: 0.9955 - val_loss: 0.3360 - val_accuracy: 0.9525\n",
      "Epoch 89/100\n",
      "558/558 [==============================] - 5s 10ms/step - loss: 0.0237 - accuracy: 0.9936 - val_loss: 0.3231 - val_accuracy: 0.9551\n",
      "Epoch 90/100\n",
      "558/558 [==============================] - 5s 9ms/step - loss: 0.0213 - accuracy: 0.9943 - val_loss: 0.2822 - val_accuracy: 0.9557\n",
      "Epoch 91/100\n",
      "558/558 [==============================] - 5s 9ms/step - loss: 0.0185 - accuracy: 0.9952 - val_loss: 0.3034 - val_accuracy: 0.9548\n",
      "Epoch 92/100\n",
      "558/558 [==============================] - 5s 9ms/step - loss: 0.0167 - accuracy: 0.9949 - val_loss: 0.3564 - val_accuracy: 0.9587\n",
      "Epoch 93/100\n",
      "558/558 [==============================] - 5s 9ms/step - loss: 0.0183 - accuracy: 0.9949 - val_loss: 0.3066 - val_accuracy: 0.9571\n",
      "Epoch 94/100\n",
      "558/558 [==============================] - 5s 9ms/step - loss: 0.0120 - accuracy: 0.9968 - val_loss: 0.3182 - val_accuracy: 0.9563\n",
      "Epoch 95/100\n",
      "558/558 [==============================] - 4s 8ms/step - loss: 0.0165 - accuracy: 0.9957 - val_loss: 0.3755 - val_accuracy: 0.9570\n",
      "Epoch 96/100\n",
      "558/558 [==============================] - 5s 8ms/step - loss: 0.0135 - accuracy: 0.9964 - val_loss: 0.3407 - val_accuracy: 0.9583\n",
      "Epoch 97/100\n",
      "558/558 [==============================] - 4s 8ms/step - loss: 0.0175 - accuracy: 0.9952 - val_loss: 0.3507 - val_accuracy: 0.9592\n",
      "Epoch 98/100\n",
      "558/558 [==============================] - 5s 8ms/step - loss: 0.0183 - accuracy: 0.9950 - val_loss: 0.3031 - val_accuracy: 0.9592\n",
      "Epoch 99/100\n",
      "558/558 [==============================] - 4s 8ms/step - loss: 0.0143 - accuracy: 0.9960 - val_loss: 0.3374 - val_accuracy: 0.9586\n",
      "Epoch 100/100\n",
      "558/558 [==============================] - 4s 8ms/step - loss: 0.0154 - accuracy: 0.9959 - val_loss: 0.3530 - val_accuracy: 0.9554\n"
     ]
    },
    {
     "data": {
      "text/plain": [
       "<tensorflow.python.keras.callbacks.History at 0x14723dad208>"
      ]
     },
     "execution_count": 18,
     "metadata": {},
     "output_type": "execute_result"
    }
   ],
   "source": [
    "model.compile(loss = \"categorical_crossentropy\", optimizer = 'adam',\n",
    "             metrics = [\"accuracy\"])\n",
    "model.fit(train_x, train_y, batch_size = batch_size, epochs=100,\n",
    "         verbose=1, validation_data = (text_x, test_y))"
   ]
  },
  {
   "cell_type": "code",
   "execution_count": 19,
   "id": "atmospheric-islam",
   "metadata": {},
   "outputs": [
    {
     "name": "stdout",
     "output_type": "stream",
     "text": [
      "875/875 [==============================] - 2s 2ms/step: \n"
     ]
    }
   ],
   "source": [
    "predict = model.predict(X_test, verbose=1)"
   ]
  },
  {
   "cell_type": "code",
   "execution_count": 20,
   "id": "naked-child",
   "metadata": {},
   "outputs": [],
   "source": [
    "predict = np.argmax(predict, 1)"
   ]
  },
  {
   "cell_type": "code",
   "execution_count": 21,
   "id": "alive-eating",
   "metadata": {},
   "outputs": [
    {
     "data": {
      "text/plain": [
       "array([2, 0, 9, ..., 3, 9, 2], dtype=int64)"
      ]
     },
     "execution_count": 21,
     "metadata": {},
     "output_type": "execute_result"
    }
   ],
   "source": [
    "predict"
   ]
  },
  {
   "cell_type": "code",
   "execution_count": 22,
   "id": "collaborative-arrival",
   "metadata": {},
   "outputs": [
    {
     "name": "stdout",
     "output_type": "stream",
     "text": [
      "Your submission was successfully saved!\n"
     ]
    },
    {
     "data": {
      "text/html": [
       "<div>\n",
       "<style scoped>\n",
       "    .dataframe tbody tr th:only-of-type {\n",
       "        vertical-align: middle;\n",
       "    }\n",
       "\n",
       "    .dataframe tbody tr th {\n",
       "        vertical-align: top;\n",
       "    }\n",
       "\n",
       "    .dataframe thead th {\n",
       "        text-align: right;\n",
       "    }\n",
       "</style>\n",
       "<table border=\"1\" class=\"dataframe\">\n",
       "  <thead>\n",
       "    <tr style=\"text-align: right;\">\n",
       "      <th></th>\n",
       "      <th>ImageId</th>\n",
       "      <th>Label</th>\n",
       "    </tr>\n",
       "  </thead>\n",
       "  <tbody>\n",
       "    <tr>\n",
       "      <th>0</th>\n",
       "      <td>1</td>\n",
       "      <td>2</td>\n",
       "    </tr>\n",
       "    <tr>\n",
       "      <th>1</th>\n",
       "      <td>2</td>\n",
       "      <td>0</td>\n",
       "    </tr>\n",
       "    <tr>\n",
       "      <th>2</th>\n",
       "      <td>3</td>\n",
       "      <td>9</td>\n",
       "    </tr>\n",
       "    <tr>\n",
       "      <th>3</th>\n",
       "      <td>4</td>\n",
       "      <td>9</td>\n",
       "    </tr>\n",
       "    <tr>\n",
       "      <th>4</th>\n",
       "      <td>5</td>\n",
       "      <td>3</td>\n",
       "    </tr>\n",
       "    <tr>\n",
       "      <th>...</th>\n",
       "      <td>...</td>\n",
       "      <td>...</td>\n",
       "    </tr>\n",
       "    <tr>\n",
       "      <th>27995</th>\n",
       "      <td>27996</td>\n",
       "      <td>9</td>\n",
       "    </tr>\n",
       "    <tr>\n",
       "      <th>27996</th>\n",
       "      <td>27997</td>\n",
       "      <td>7</td>\n",
       "    </tr>\n",
       "    <tr>\n",
       "      <th>27997</th>\n",
       "      <td>27998</td>\n",
       "      <td>3</td>\n",
       "    </tr>\n",
       "    <tr>\n",
       "      <th>27998</th>\n",
       "      <td>27999</td>\n",
       "      <td>9</td>\n",
       "    </tr>\n",
       "    <tr>\n",
       "      <th>27999</th>\n",
       "      <td>28000</td>\n",
       "      <td>2</td>\n",
       "    </tr>\n",
       "  </tbody>\n",
       "</table>\n",
       "<p>28000 rows × 2 columns</p>\n",
       "</div>"
      ],
      "text/plain": [
       "       ImageId  Label\n",
       "0            1      2\n",
       "1            2      0\n",
       "2            3      9\n",
       "3            4      9\n",
       "4            5      3\n",
       "...        ...    ...\n",
       "27995    27996      9\n",
       "27996    27997      7\n",
       "27997    27998      3\n",
       "27998    27999      9\n",
       "27999    28000      2\n",
       "\n",
       "[28000 rows x 2 columns]"
      ]
     },
     "execution_count": 22,
     "metadata": {},
     "output_type": "execute_result"
    }
   ],
   "source": [
    "output = pd.DataFrame({'ImageId': test_data.index +1, 'Label': predict})\n",
    "output.to_csv('my_submission.csv', index=False)\n",
    "print(\"Your submission was successfully saved!\")\n",
    "output "
   ]
  },
  {
   "cell_type": "code",
   "execution_count": null,
   "id": "contained-reflection",
   "metadata": {},
   "outputs": [],
   "source": []
  },
  {
   "cell_type": "code",
   "execution_count": null,
   "id": "bottom-midnight",
   "metadata": {},
   "outputs": [],
   "source": []
  }
 ],
 "metadata": {
  "kernelspec": {
   "display_name": "Python 3",
   "language": "python",
   "name": "python3"
  },
  "language_info": {
   "codemirror_mode": {
    "name": "ipython",
    "version": 3
   },
   "file_extension": ".py",
   "mimetype": "text/x-python",
   "name": "python",
   "nbconvert_exporter": "python",
   "pygments_lexer": "ipython3",
   "version": "3.7.4"
  }
 },
 "nbformat": 4,
 "nbformat_minor": 5
}
